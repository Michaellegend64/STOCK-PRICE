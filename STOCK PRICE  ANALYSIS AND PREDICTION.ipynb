{
 "cells": [
  {
   "cell_type": "markdown",
   "metadata": {},
   "source": [
    "# STOCK PRODUCT ANALYSIS AND PREDICTION PROJECT - GIZ FINAL PROJECT"
   ]
  },
  {
   "cell_type": "markdown",
   "metadata": {},
   "source": [
    "# Problem Statement\n",
    "A stock brokerage firm (Coven Financerequires prediction of stock for Company XYZ providing data between 2013 - 2017"
   ]
  },
  {
   "cell_type": "markdown",
   "metadata": {},
   "source": [
    "# INTRODUCTION\n",
    "Stock Product Analysis and Prediction is a project on technical analysis, visualization and prediction using data provided by Coven Finance on Company XYZ, which is a technology company. Pandas was used for exploratory analysis and objective view of few ways of analyzing the risk of the stock based on its previous performance history. We therefore can predicted future stock prices after training our model. \n",
    "Method used: Multiple Regression!"
   ]
  },
  {
   "cell_type": "markdown",
   "metadata": {},
   "source": [
    "# Solution\n",
    "This is a machine learning project aimed at predicting stocks of Company XYZ.\n",
    "We used Multiple Regression as our dependent variable (label) is continuous and we have multiple independent variables. The dependent variable is the feature created as label, which is the value we want to predict."
   ]
  },
  {
   "cell_type": "markdown",
   "metadata": {},
   "source": [
    "# IMPORTING OUR LIBRARIES"
   ]
  },
  {
   "cell_type": "code",
   "execution_count": 1,
   "metadata": {
    "collapsed": true
   },
   "outputs": [],
   "source": [
    "import pandas as pd\n",
    "import numpy as np\n",
    "import matplotlib.pyplot as plt\n",
    "import seaborn as sns\n",
    "%matplotlib inline\n",
    "import matplotlib\n",
    "\n",
    "plt.style.use('fivethirtyeight')\n",
    "matplotlib.rcParams['axes.labelsize'] = 14\n",
    "matplotlib.rcParams['xtick.labelsize'] = 12\n",
    "matplotlib.rcParams['ytick.labelsize'] = 12\n",
    "matplotlib.rcParams['text.color'] = 'k'"
   ]
  },
  {
   "cell_type": "code",
   "execution_count": 2,
   "metadata": {
    "collapsed": true
   },
   "outputs": [],
   "source": [
    "df = pd.read_csv('EOD-HD.csv', parse_dates = ['Date'])"
   ]
  },
  {
   "cell_type": "code",
   "execution_count": 3,
   "metadata": {
    "scrolled": true
   },
   "outputs": [
    {
     "data": {
      "text/html": [
       "<div>\n",
       "<style>\n",
       "    .dataframe thead tr:only-child th {\n",
       "        text-align: right;\n",
       "    }\n",
       "\n",
       "    .dataframe thead th {\n",
       "        text-align: left;\n",
       "    }\n",
       "\n",
       "    .dataframe tbody tr th {\n",
       "        vertical-align: top;\n",
       "    }\n",
       "</style>\n",
       "<table border=\"1\" class=\"dataframe\">\n",
       "  <thead>\n",
       "    <tr style=\"text-align: right;\">\n",
       "      <th></th>\n",
       "      <th>Date</th>\n",
       "      <th>Open</th>\n",
       "      <th>High</th>\n",
       "      <th>Low</th>\n",
       "      <th>Close</th>\n",
       "      <th>Volume</th>\n",
       "      <th>Dividend</th>\n",
       "      <th>Split</th>\n",
       "      <th>Adj_Open</th>\n",
       "      <th>Adj_High</th>\n",
       "      <th>Adj_Low</th>\n",
       "      <th>Adj_Close</th>\n",
       "      <th>Adj_Volume</th>\n",
       "    </tr>\n",
       "  </thead>\n",
       "  <tbody>\n",
       "    <tr>\n",
       "      <th>0</th>\n",
       "      <td>2017-12-28</td>\n",
       "      <td>190.910</td>\n",
       "      <td>190.9800</td>\n",
       "      <td>189.640</td>\n",
       "      <td>189.78</td>\n",
       "      <td>3175631.0</td>\n",
       "      <td>0.0</td>\n",
       "      <td>1.0</td>\n",
       "      <td>181.803521</td>\n",
       "      <td>181.870182</td>\n",
       "      <td>180.594100</td>\n",
       "      <td>180.727422</td>\n",
       "      <td>3175631.0</td>\n",
       "    </tr>\n",
       "    <tr>\n",
       "      <th>1</th>\n",
       "      <td>2017-12-27</td>\n",
       "      <td>190.600</td>\n",
       "      <td>191.4900</td>\n",
       "      <td>190.010</td>\n",
       "      <td>190.19</td>\n",
       "      <td>5912613.0</td>\n",
       "      <td>0.0</td>\n",
       "      <td>1.0</td>\n",
       "      <td>181.508308</td>\n",
       "      <td>182.355855</td>\n",
       "      <td>180.946451</td>\n",
       "      <td>181.117865</td>\n",
       "      <td>5912613.0</td>\n",
       "    </tr>\n",
       "    <tr>\n",
       "      <th>2</th>\n",
       "      <td>2017-12-26</td>\n",
       "      <td>188.530</td>\n",
       "      <td>190.4200</td>\n",
       "      <td>188.340</td>\n",
       "      <td>190.36</td>\n",
       "      <td>2969182.0</td>\n",
       "      <td>0.0</td>\n",
       "      <td>1.0</td>\n",
       "      <td>179.537048</td>\n",
       "      <td>181.336894</td>\n",
       "      <td>179.356111</td>\n",
       "      <td>181.279756</td>\n",
       "      <td>2969182.0</td>\n",
       "    </tr>\n",
       "    <tr>\n",
       "      <th>3</th>\n",
       "      <td>2017-12-22</td>\n",
       "      <td>188.200</td>\n",
       "      <td>188.4600</td>\n",
       "      <td>187.270</td>\n",
       "      <td>188.13</td>\n",
       "      <td>3256519.0</td>\n",
       "      <td>0.0</td>\n",
       "      <td>1.0</td>\n",
       "      <td>179.222789</td>\n",
       "      <td>179.470387</td>\n",
       "      <td>178.337150</td>\n",
       "      <td>179.156128</td>\n",
       "      <td>3256519.0</td>\n",
       "    </tr>\n",
       "    <tr>\n",
       "      <th>4</th>\n",
       "      <td>2017-12-21</td>\n",
       "      <td>187.700</td>\n",
       "      <td>188.8400</td>\n",
       "      <td>187.440</td>\n",
       "      <td>188.08</td>\n",
       "      <td>5859058.0</td>\n",
       "      <td>0.0</td>\n",
       "      <td>1.0</td>\n",
       "      <td>178.746639</td>\n",
       "      <td>179.832261</td>\n",
       "      <td>178.499041</td>\n",
       "      <td>179.108513</td>\n",
       "      <td>5859058.0</td>\n",
       "    </tr>\n",
       "    <tr>\n",
       "      <th>5</th>\n",
       "      <td>2017-12-20</td>\n",
       "      <td>187.140</td>\n",
       "      <td>187.9024</td>\n",
       "      <td>186.035</td>\n",
       "      <td>187.31</td>\n",
       "      <td>5383672.0</td>\n",
       "      <td>0.0</td>\n",
       "      <td>1.0</td>\n",
       "      <td>178.213351</td>\n",
       "      <td>178.939384</td>\n",
       "      <td>177.161060</td>\n",
       "      <td>178.375242</td>\n",
       "      <td>5383672.0</td>\n",
       "    </tr>\n",
       "    <tr>\n",
       "      <th>6</th>\n",
       "      <td>2017-12-19</td>\n",
       "      <td>185.235</td>\n",
       "      <td>186.7200</td>\n",
       "      <td>184.600</td>\n",
       "      <td>185.98</td>\n",
       "      <td>4496706.0</td>\n",
       "      <td>0.0</td>\n",
       "      <td>1.0</td>\n",
       "      <td>176.399220</td>\n",
       "      <td>177.813385</td>\n",
       "      <td>175.794510</td>\n",
       "      <td>177.108684</td>\n",
       "      <td>4496706.0</td>\n",
       "    </tr>\n",
       "    <tr>\n",
       "      <th>7</th>\n",
       "      <td>2017-12-18</td>\n",
       "      <td>183.960</td>\n",
       "      <td>185.4700</td>\n",
       "      <td>183.500</td>\n",
       "      <td>184.73</td>\n",
       "      <td>5011827.0</td>\n",
       "      <td>0.0</td>\n",
       "      <td>1.0</td>\n",
       "      <td>175.185038</td>\n",
       "      <td>176.623011</td>\n",
       "      <td>174.746981</td>\n",
       "      <td>175.918309</td>\n",
       "      <td>5011827.0</td>\n",
       "    </tr>\n",
       "    <tr>\n",
       "      <th>8</th>\n",
       "      <td>2017-12-15</td>\n",
       "      <td>183.005</td>\n",
       "      <td>183.2100</td>\n",
       "      <td>182.130</td>\n",
       "      <td>182.58</td>\n",
       "      <td>8201699.0</td>\n",
       "      <td>0.0</td>\n",
       "      <td>1.0</td>\n",
       "      <td>174.275592</td>\n",
       "      <td>174.470814</td>\n",
       "      <td>173.442330</td>\n",
       "      <td>173.870865</td>\n",
       "      <td>8201699.0</td>\n",
       "    </tr>\n",
       "    <tr>\n",
       "      <th>9</th>\n",
       "      <td>2017-12-14</td>\n",
       "      <td>183.880</td>\n",
       "      <td>184.0000</td>\n",
       "      <td>182.060</td>\n",
       "      <td>182.13</td>\n",
       "      <td>3542677.0</td>\n",
       "      <td>0.0</td>\n",
       "      <td>1.0</td>\n",
       "      <td>175.108854</td>\n",
       "      <td>175.223130</td>\n",
       "      <td>173.375669</td>\n",
       "      <td>173.442330</td>\n",
       "      <td>3542677.0</td>\n",
       "    </tr>\n",
       "  </tbody>\n",
       "</table>\n",
       "</div>"
      ],
      "text/plain": [
       "        Date     Open      High      Low   Close     Volume  Dividend  Split  \\\n",
       "0 2017-12-28  190.910  190.9800  189.640  189.78  3175631.0       0.0    1.0   \n",
       "1 2017-12-27  190.600  191.4900  190.010  190.19  5912613.0       0.0    1.0   \n",
       "2 2017-12-26  188.530  190.4200  188.340  190.36  2969182.0       0.0    1.0   \n",
       "3 2017-12-22  188.200  188.4600  187.270  188.13  3256519.0       0.0    1.0   \n",
       "4 2017-12-21  187.700  188.8400  187.440  188.08  5859058.0       0.0    1.0   \n",
       "5 2017-12-20  187.140  187.9024  186.035  187.31  5383672.0       0.0    1.0   \n",
       "6 2017-12-19  185.235  186.7200  184.600  185.98  4496706.0       0.0    1.0   \n",
       "7 2017-12-18  183.960  185.4700  183.500  184.73  5011827.0       0.0    1.0   \n",
       "8 2017-12-15  183.005  183.2100  182.130  182.58  8201699.0       0.0    1.0   \n",
       "9 2017-12-14  183.880  184.0000  182.060  182.13  3542677.0       0.0    1.0   \n",
       "\n",
       "     Adj_Open    Adj_High     Adj_Low   Adj_Close  Adj_Volume  \n",
       "0  181.803521  181.870182  180.594100  180.727422   3175631.0  \n",
       "1  181.508308  182.355855  180.946451  181.117865   5912613.0  \n",
       "2  179.537048  181.336894  179.356111  181.279756   2969182.0  \n",
       "3  179.222789  179.470387  178.337150  179.156128   3256519.0  \n",
       "4  178.746639  179.832261  178.499041  179.108513   5859058.0  \n",
       "5  178.213351  178.939384  177.161060  178.375242   5383672.0  \n",
       "6  176.399220  177.813385  175.794510  177.108684   4496706.0  \n",
       "7  175.185038  176.623011  174.746981  175.918309   5011827.0  \n",
       "8  174.275592  174.470814  173.442330  173.870865   8201699.0  \n",
       "9  175.108854  175.223130  173.375669  173.442330   3542677.0  "
      ]
     },
     "execution_count": 3,
     "metadata": {},
     "output_type": "execute_result"
    }
   ],
   "source": [
    "df.head(10)"
   ]
  },
  {
   "cell_type": "code",
   "execution_count": 4,
   "metadata": {},
   "outputs": [
    {
     "data": {
      "text/plain": [
       "Date          datetime64[ns]\n",
       "Open                 float64\n",
       "High                 float64\n",
       "Low                  float64\n",
       "Close                float64\n",
       "Volume               float64\n",
       "Dividend             float64\n",
       "Split                float64\n",
       "Adj_Open             float64\n",
       "Adj_High             float64\n",
       "Adj_Low              float64\n",
       "Adj_Close            float64\n",
       "Adj_Volume           float64\n",
       "dtype: object"
      ]
     },
     "execution_count": 4,
     "metadata": {},
     "output_type": "execute_result"
    }
   ],
   "source": [
    "df.dtypes"
   ]
  },
  {
   "cell_type": "code",
   "execution_count": 5,
   "metadata": {},
   "outputs": [
    {
     "data": {
      "text/plain": [
       "Index(['Date', 'Open', 'High', 'Low', 'Close', 'Volume', 'Dividend', 'Split',\n",
       "       'Adj_Open', 'Adj_High', 'Adj_Low', 'Adj_Close', 'Adj_Volume'],\n",
       "      dtype='object')"
      ]
     },
     "execution_count": 5,
     "metadata": {},
     "output_type": "execute_result"
    }
   ],
   "source": [
    "df.columns"
   ]
  },
  {
   "cell_type": "code",
   "execution_count": 6,
   "metadata": {
    "collapsed": true
   },
   "outputs": [],
   "source": [
    "df = df[['Date', 'Adj_Open', 'Adj_High', 'Adj_Low', 'Adj_Close', 'Adj_Volume']]"
   ]
  },
  {
   "cell_type": "code",
   "execution_count": 7,
   "metadata": {},
   "outputs": [
    {
     "data": {
      "text/html": [
       "<div>\n",
       "<style>\n",
       "    .dataframe thead tr:only-child th {\n",
       "        text-align: right;\n",
       "    }\n",
       "\n",
       "    .dataframe thead th {\n",
       "        text-align: left;\n",
       "    }\n",
       "\n",
       "    .dataframe tbody tr th {\n",
       "        vertical-align: top;\n",
       "    }\n",
       "</style>\n",
       "<table border=\"1\" class=\"dataframe\">\n",
       "  <thead>\n",
       "    <tr style=\"text-align: right;\">\n",
       "      <th></th>\n",
       "      <th>Date</th>\n",
       "      <th>Adj_Open</th>\n",
       "      <th>Adj_High</th>\n",
       "      <th>Adj_Low</th>\n",
       "      <th>Adj_Close</th>\n",
       "      <th>Adj_Volume</th>\n",
       "    </tr>\n",
       "  </thead>\n",
       "  <tbody>\n",
       "    <tr>\n",
       "      <th>0</th>\n",
       "      <td>2017-12-28</td>\n",
       "      <td>181.803521</td>\n",
       "      <td>181.870182</td>\n",
       "      <td>180.594100</td>\n",
       "      <td>180.727422</td>\n",
       "      <td>3175631.0</td>\n",
       "    </tr>\n",
       "    <tr>\n",
       "      <th>1</th>\n",
       "      <td>2017-12-27</td>\n",
       "      <td>181.508308</td>\n",
       "      <td>182.355855</td>\n",
       "      <td>180.946451</td>\n",
       "      <td>181.117865</td>\n",
       "      <td>5912613.0</td>\n",
       "    </tr>\n",
       "    <tr>\n",
       "      <th>2</th>\n",
       "      <td>2017-12-26</td>\n",
       "      <td>179.537048</td>\n",
       "      <td>181.336894</td>\n",
       "      <td>179.356111</td>\n",
       "      <td>181.279756</td>\n",
       "      <td>2969182.0</td>\n",
       "    </tr>\n",
       "    <tr>\n",
       "      <th>3</th>\n",
       "      <td>2017-12-22</td>\n",
       "      <td>179.222789</td>\n",
       "      <td>179.470387</td>\n",
       "      <td>178.337150</td>\n",
       "      <td>179.156128</td>\n",
       "      <td>3256519.0</td>\n",
       "    </tr>\n",
       "    <tr>\n",
       "      <th>4</th>\n",
       "      <td>2017-12-21</td>\n",
       "      <td>178.746639</td>\n",
       "      <td>179.832261</td>\n",
       "      <td>178.499041</td>\n",
       "      <td>179.108513</td>\n",
       "      <td>5859058.0</td>\n",
       "    </tr>\n",
       "    <tr>\n",
       "      <th>5</th>\n",
       "      <td>2017-12-20</td>\n",
       "      <td>178.213351</td>\n",
       "      <td>178.939384</td>\n",
       "      <td>177.161060</td>\n",
       "      <td>178.375242</td>\n",
       "      <td>5383672.0</td>\n",
       "    </tr>\n",
       "    <tr>\n",
       "      <th>6</th>\n",
       "      <td>2017-12-19</td>\n",
       "      <td>176.399220</td>\n",
       "      <td>177.813385</td>\n",
       "      <td>175.794510</td>\n",
       "      <td>177.108684</td>\n",
       "      <td>4496706.0</td>\n",
       "    </tr>\n",
       "    <tr>\n",
       "      <th>7</th>\n",
       "      <td>2017-12-18</td>\n",
       "      <td>175.185038</td>\n",
       "      <td>176.623011</td>\n",
       "      <td>174.746981</td>\n",
       "      <td>175.918309</td>\n",
       "      <td>5011827.0</td>\n",
       "    </tr>\n",
       "    <tr>\n",
       "      <th>8</th>\n",
       "      <td>2017-12-15</td>\n",
       "      <td>174.275592</td>\n",
       "      <td>174.470814</td>\n",
       "      <td>173.442330</td>\n",
       "      <td>173.870865</td>\n",
       "      <td>8201699.0</td>\n",
       "    </tr>\n",
       "    <tr>\n",
       "      <th>9</th>\n",
       "      <td>2017-12-14</td>\n",
       "      <td>175.108854</td>\n",
       "      <td>175.223130</td>\n",
       "      <td>173.375669</td>\n",
       "      <td>173.442330</td>\n",
       "      <td>3542677.0</td>\n",
       "    </tr>\n",
       "    <tr>\n",
       "      <th>10</th>\n",
       "      <td>2017-12-13</td>\n",
       "      <td>173.328054</td>\n",
       "      <td>174.908872</td>\n",
       "      <td>173.318531</td>\n",
       "      <td>174.299400</td>\n",
       "      <td>5176749.0</td>\n",
       "    </tr>\n",
       "    <tr>\n",
       "      <th>11</th>\n",
       "      <td>2017-12-12</td>\n",
       "      <td>174.032756</td>\n",
       "      <td>174.470814</td>\n",
       "      <td>172.994749</td>\n",
       "      <td>173.128071</td>\n",
       "      <td>5274935.0</td>\n",
       "    </tr>\n",
       "    <tr>\n",
       "      <th>12</th>\n",
       "      <td>2017-12-11</td>\n",
       "      <td>174.175601</td>\n",
       "      <td>174.232739</td>\n",
       "      <td>172.480603</td>\n",
       "      <td>173.556606</td>\n",
       "      <td>6038891.0</td>\n",
       "    </tr>\n",
       "    <tr>\n",
       "      <th>13</th>\n",
       "      <td>2017-12-08</td>\n",
       "      <td>173.794681</td>\n",
       "      <td>175.127900</td>\n",
       "      <td>173.470899</td>\n",
       "      <td>174.661274</td>\n",
       "      <td>5091538.0</td>\n",
       "    </tr>\n",
       "    <tr>\n",
       "      <th>14</th>\n",
       "      <td>2017-12-07</td>\n",
       "      <td>171.461547</td>\n",
       "      <td>173.870865</td>\n",
       "      <td>171.194903</td>\n",
       "      <td>173.318531</td>\n",
       "      <td>5484611.0</td>\n",
       "    </tr>\n",
       "    <tr>\n",
       "      <th>15</th>\n",
       "      <td>2017-12-06</td>\n",
       "      <td>171.652007</td>\n",
       "      <td>173.461376</td>\n",
       "      <td>170.156896</td>\n",
       "      <td>172.175772</td>\n",
       "      <td>6891093.0</td>\n",
       "    </tr>\n",
       "    <tr>\n",
       "      <th>16</th>\n",
       "      <td>2017-12-05</td>\n",
       "      <td>175.975447</td>\n",
       "      <td>176.089723</td>\n",
       "      <td>173.565082</td>\n",
       "      <td>174.127986</td>\n",
       "      <td>6347228.0</td>\n",
       "    </tr>\n",
       "    <tr>\n",
       "      <th>17</th>\n",
       "      <td>2017-12-04</td>\n",
       "      <td>174.451768</td>\n",
       "      <td>177.422943</td>\n",
       "      <td>174.451768</td>\n",
       "      <td>176.080200</td>\n",
       "      <td>6192507.0</td>\n",
       "    </tr>\n",
       "    <tr>\n",
       "      <th>18</th>\n",
       "      <td>2017-12-01</td>\n",
       "      <td>171.718668</td>\n",
       "      <td>171.985312</td>\n",
       "      <td>168.271343</td>\n",
       "      <td>171.813898</td>\n",
       "      <td>4682482.0</td>\n",
       "    </tr>\n",
       "    <tr>\n",
       "      <th>19</th>\n",
       "      <td>2017-11-30</td>\n",
       "      <td>169.575994</td>\n",
       "      <td>172.051973</td>\n",
       "      <td>168.947476</td>\n",
       "      <td>171.242518</td>\n",
       "      <td>9179321.0</td>\n",
       "    </tr>\n",
       "  </tbody>\n",
       "</table>\n",
       "</div>"
      ],
      "text/plain": [
       "         Date    Adj_Open    Adj_High     Adj_Low   Adj_Close  Adj_Volume\n",
       "0  2017-12-28  181.803521  181.870182  180.594100  180.727422   3175631.0\n",
       "1  2017-12-27  181.508308  182.355855  180.946451  181.117865   5912613.0\n",
       "2  2017-12-26  179.537048  181.336894  179.356111  181.279756   2969182.0\n",
       "3  2017-12-22  179.222789  179.470387  178.337150  179.156128   3256519.0\n",
       "4  2017-12-21  178.746639  179.832261  178.499041  179.108513   5859058.0\n",
       "5  2017-12-20  178.213351  178.939384  177.161060  178.375242   5383672.0\n",
       "6  2017-12-19  176.399220  177.813385  175.794510  177.108684   4496706.0\n",
       "7  2017-12-18  175.185038  176.623011  174.746981  175.918309   5011827.0\n",
       "8  2017-12-15  174.275592  174.470814  173.442330  173.870865   8201699.0\n",
       "9  2017-12-14  175.108854  175.223130  173.375669  173.442330   3542677.0\n",
       "10 2017-12-13  173.328054  174.908872  173.318531  174.299400   5176749.0\n",
       "11 2017-12-12  174.032756  174.470814  172.994749  173.128071   5274935.0\n",
       "12 2017-12-11  174.175601  174.232739  172.480603  173.556606   6038891.0\n",
       "13 2017-12-08  173.794681  175.127900  173.470899  174.661274   5091538.0\n",
       "14 2017-12-07  171.461547  173.870865  171.194903  173.318531   5484611.0\n",
       "15 2017-12-06  171.652007  173.461376  170.156896  172.175772   6891093.0\n",
       "16 2017-12-05  175.975447  176.089723  173.565082  174.127986   6347228.0\n",
       "17 2017-12-04  174.451768  177.422943  174.451768  176.080200   6192507.0\n",
       "18 2017-12-01  171.718668  171.985312  168.271343  171.813898   4682482.0\n",
       "19 2017-11-30  169.575994  172.051973  168.947476  171.242518   9179321.0"
      ]
     },
     "execution_count": 7,
     "metadata": {},
     "output_type": "execute_result"
    }
   ],
   "source": [
    "df.head(20)"
   ]
  },
  {
   "cell_type": "code",
   "execution_count": 8,
   "metadata": {},
   "outputs": [
    {
     "data": {
      "text/html": [
       "<div>\n",
       "<style>\n",
       "    .dataframe thead tr:only-child th {\n",
       "        text-align: right;\n",
       "    }\n",
       "\n",
       "    .dataframe thead th {\n",
       "        text-align: left;\n",
       "    }\n",
       "\n",
       "    .dataframe tbody tr th {\n",
       "        vertical-align: top;\n",
       "    }\n",
       "</style>\n",
       "<table border=\"1\" class=\"dataframe\">\n",
       "  <thead>\n",
       "    <tr style=\"text-align: right;\">\n",
       "      <th></th>\n",
       "      <th>Adj_Open</th>\n",
       "      <th>Adj_High</th>\n",
       "      <th>Adj_Low</th>\n",
       "      <th>Adj_Close</th>\n",
       "      <th>Adj_Volume</th>\n",
       "    </tr>\n",
       "    <tr>\n",
       "      <th>Date</th>\n",
       "      <th></th>\n",
       "      <th></th>\n",
       "      <th></th>\n",
       "      <th></th>\n",
       "      <th></th>\n",
       "    </tr>\n",
       "  </thead>\n",
       "  <tbody>\n",
       "    <tr>\n",
       "      <th>2017-12-28</th>\n",
       "      <td>181.803521</td>\n",
       "      <td>181.870182</td>\n",
       "      <td>180.594100</td>\n",
       "      <td>180.727422</td>\n",
       "      <td>3175631.0</td>\n",
       "    </tr>\n",
       "    <tr>\n",
       "      <th>2017-12-27</th>\n",
       "      <td>181.508308</td>\n",
       "      <td>182.355855</td>\n",
       "      <td>180.946451</td>\n",
       "      <td>181.117865</td>\n",
       "      <td>5912613.0</td>\n",
       "    </tr>\n",
       "    <tr>\n",
       "      <th>2017-12-26</th>\n",
       "      <td>179.537048</td>\n",
       "      <td>181.336894</td>\n",
       "      <td>179.356111</td>\n",
       "      <td>181.279756</td>\n",
       "      <td>2969182.0</td>\n",
       "    </tr>\n",
       "    <tr>\n",
       "      <th>2017-12-22</th>\n",
       "      <td>179.222789</td>\n",
       "      <td>179.470387</td>\n",
       "      <td>178.337150</td>\n",
       "      <td>179.156128</td>\n",
       "      <td>3256519.0</td>\n",
       "    </tr>\n",
       "    <tr>\n",
       "      <th>2017-12-21</th>\n",
       "      <td>178.746639</td>\n",
       "      <td>179.832261</td>\n",
       "      <td>178.499041</td>\n",
       "      <td>179.108513</td>\n",
       "      <td>5859058.0</td>\n",
       "    </tr>\n",
       "    <tr>\n",
       "      <th>2017-12-20</th>\n",
       "      <td>178.213351</td>\n",
       "      <td>178.939384</td>\n",
       "      <td>177.161060</td>\n",
       "      <td>178.375242</td>\n",
       "      <td>5383672.0</td>\n",
       "    </tr>\n",
       "    <tr>\n",
       "      <th>2017-12-19</th>\n",
       "      <td>176.399220</td>\n",
       "      <td>177.813385</td>\n",
       "      <td>175.794510</td>\n",
       "      <td>177.108684</td>\n",
       "      <td>4496706.0</td>\n",
       "    </tr>\n",
       "    <tr>\n",
       "      <th>2017-12-18</th>\n",
       "      <td>175.185038</td>\n",
       "      <td>176.623011</td>\n",
       "      <td>174.746981</td>\n",
       "      <td>175.918309</td>\n",
       "      <td>5011827.0</td>\n",
       "    </tr>\n",
       "    <tr>\n",
       "      <th>2017-12-15</th>\n",
       "      <td>174.275592</td>\n",
       "      <td>174.470814</td>\n",
       "      <td>173.442330</td>\n",
       "      <td>173.870865</td>\n",
       "      <td>8201699.0</td>\n",
       "    </tr>\n",
       "    <tr>\n",
       "      <th>2017-12-14</th>\n",
       "      <td>175.108854</td>\n",
       "      <td>175.223130</td>\n",
       "      <td>173.375669</td>\n",
       "      <td>173.442330</td>\n",
       "      <td>3542677.0</td>\n",
       "    </tr>\n",
       "  </tbody>\n",
       "</table>\n",
       "</div>"
      ],
      "text/plain": [
       "              Adj_Open    Adj_High     Adj_Low   Adj_Close  Adj_Volume\n",
       "Date                                                                  \n",
       "2017-12-28  181.803521  181.870182  180.594100  180.727422   3175631.0\n",
       "2017-12-27  181.508308  182.355855  180.946451  181.117865   5912613.0\n",
       "2017-12-26  179.537048  181.336894  179.356111  181.279756   2969182.0\n",
       "2017-12-22  179.222789  179.470387  178.337150  179.156128   3256519.0\n",
       "2017-12-21  178.746639  179.832261  178.499041  179.108513   5859058.0\n",
       "2017-12-20  178.213351  178.939384  177.161060  178.375242   5383672.0\n",
       "2017-12-19  176.399220  177.813385  175.794510  177.108684   4496706.0\n",
       "2017-12-18  175.185038  176.623011  174.746981  175.918309   5011827.0\n",
       "2017-12-15  174.275592  174.470814  173.442330  173.870865   8201699.0\n",
       "2017-12-14  175.108854  175.223130  173.375669  173.442330   3542677.0"
      ]
     },
     "execution_count": 8,
     "metadata": {},
     "output_type": "execute_result"
    }
   ],
   "source": [
    "df.set_index('Date',inplace=True)\n",
    "df.head(10)"
   ]
  },
  {
   "cell_type": "code",
   "execution_count": 9,
   "metadata": {
    "scrolled": true
   },
   "outputs": [
    {
     "data": {
      "text/html": [
       "<div>\n",
       "<style>\n",
       "    .dataframe thead tr:only-child th {\n",
       "        text-align: right;\n",
       "    }\n",
       "\n",
       "    .dataframe thead th {\n",
       "        text-align: left;\n",
       "    }\n",
       "\n",
       "    .dataframe tbody tr th {\n",
       "        vertical-align: top;\n",
       "    }\n",
       "</style>\n",
       "<table border=\"1\" class=\"dataframe\">\n",
       "  <thead>\n",
       "    <tr style=\"text-align: right;\">\n",
       "      <th></th>\n",
       "      <th>Adj_Open</th>\n",
       "      <th>Adj_High</th>\n",
       "      <th>Adj_Low</th>\n",
       "      <th>Adj_Close</th>\n",
       "      <th>Adj_Volume</th>\n",
       "    </tr>\n",
       "  </thead>\n",
       "  <tbody>\n",
       "    <tr>\n",
       "      <th>count</th>\n",
       "      <td>1090.000000</td>\n",
       "      <td>1090.000000</td>\n",
       "      <td>1090.000000</td>\n",
       "      <td>1090.000000</td>\n",
       "      <td>1.090000e+03</td>\n",
       "    </tr>\n",
       "    <tr>\n",
       "      <th>mean</th>\n",
       "      <td>108.025789</td>\n",
       "      <td>108.797543</td>\n",
       "      <td>107.272647</td>\n",
       "      <td>108.066053</td>\n",
       "      <td>5.415875e+06</td>\n",
       "    </tr>\n",
       "    <tr>\n",
       "      <th>std</th>\n",
       "      <td>28.407561</td>\n",
       "      <td>28.544913</td>\n",
       "      <td>28.286563</td>\n",
       "      <td>28.433344</td>\n",
       "      <td>2.274563e+06</td>\n",
       "    </tr>\n",
       "    <tr>\n",
       "      <th>min</th>\n",
       "      <td>63.493220</td>\n",
       "      <td>63.997825</td>\n",
       "      <td>62.823314</td>\n",
       "      <td>63.249618</td>\n",
       "      <td>1.517075e+06</td>\n",
       "    </tr>\n",
       "    <tr>\n",
       "      <th>25%</th>\n",
       "      <td>82.034051</td>\n",
       "      <td>82.682450</td>\n",
       "      <td>81.226683</td>\n",
       "      <td>81.837022</td>\n",
       "      <td>3.895442e+06</td>\n",
       "    </tr>\n",
       "    <tr>\n",
       "      <th>50%</th>\n",
       "      <td>110.150407</td>\n",
       "      <td>110.947492</td>\n",
       "      <td>108.921533</td>\n",
       "      <td>110.228727</td>\n",
       "      <td>4.927485e+06</td>\n",
       "    </tr>\n",
       "    <tr>\n",
       "      <th>75%</th>\n",
       "      <td>125.551003</td>\n",
       "      <td>126.334836</td>\n",
       "      <td>124.898251</td>\n",
       "      <td>125.675862</td>\n",
       "      <td>6.349263e+06</td>\n",
       "    </tr>\n",
       "    <tr>\n",
       "      <th>max</th>\n",
       "      <td>181.803521</td>\n",
       "      <td>182.355855</td>\n",
       "      <td>180.946451</td>\n",
       "      <td>181.279756</td>\n",
       "      <td>2.075320e+07</td>\n",
       "    </tr>\n",
       "  </tbody>\n",
       "</table>\n",
       "</div>"
      ],
      "text/plain": [
       "          Adj_Open     Adj_High      Adj_Low    Adj_Close    Adj_Volume\n",
       "count  1090.000000  1090.000000  1090.000000  1090.000000  1.090000e+03\n",
       "mean    108.025789   108.797543   107.272647   108.066053  5.415875e+06\n",
       "std      28.407561    28.544913    28.286563    28.433344  2.274563e+06\n",
       "min      63.493220    63.997825    62.823314    63.249618  1.517075e+06\n",
       "25%      82.034051    82.682450    81.226683    81.837022  3.895442e+06\n",
       "50%     110.150407   110.947492   108.921533   110.228727  4.927485e+06\n",
       "75%     125.551003   126.334836   124.898251   125.675862  6.349263e+06\n",
       "max     181.803521   182.355855   180.946451   181.279756  2.075320e+07"
      ]
     },
     "execution_count": 9,
     "metadata": {},
     "output_type": "execute_result"
    }
   ],
   "source": [
    "df.describe()"
   ]
  },
  {
   "cell_type": "code",
   "execution_count": 10,
   "metadata": {},
   "outputs": [
    {
     "data": {
      "text/plain": [
       "<matplotlib.axes._subplots.AxesSubplot at 0x73e925cf60>"
      ]
     },
     "execution_count": 10,
     "metadata": {},
     "output_type": "execute_result"
    },
    {
     "data": {
      "image/png": "[encoded data removed]",
      "text/plain": [
       "<matplotlib.figure.Figure at 0x73e2ac7e48>"
      ]
     },
     "metadata": {},
     "output_type": "display_data"
    }
   ],
   "source": [
    "#This is a histogram showing Adjusted Volume\n",
    "df['Adj_Volume'].plot(x='Adj_Close', y='Adj_Volume', kind='hist')"
   ]
  },
  {
   "cell_type": "code",
   "execution_count": 11,
   "metadata": {},
   "outputs": [
    {
     "data": {
      "text/plain": [
       "<matplotlib.axes._subplots.AxesSubplot at 0x73e925cb70>"
      ]
     },
     "execution_count": 11,
     "metadata": {},
     "output_type": "execute_result"
    },
    {
     "data": {
      "image/png": "[encoded data removed]",
      "text/plain": [
       "<matplotlib.figure.Figure at 0x73e2d076a0>"
      ]
     },
     "metadata": {},
     "output_type": "display_data"
    }
   ],
   "source": [
    "#This shows a scatter plot for the Adjusted Close versus the Adjusted Volume.\n",
    "#We can see that most of the dots are concentrated around lower volumes bought.\n",
    "df.plot.scatter(x='Adj_Close', y='Adj_Volume')"
   ]
  },
  {
   "cell_type": "code",
   "execution_count": 12,
   "metadata": {},
   "outputs": [
    {
     "name": "stderr",
     "output_type": "stream",
     "text": [
      "C:\\Users\\PC\\Anaconda3\\lib\\site-packages\\scipy\\stats\\stats.py:1633: FutureWarning: Using a non-tuple sequence for multidimensional indexing is deprecated; use `arr[tuple(seq)]` instead of `arr[seq]`. In the future this will be interpreted as an array index, `arr[np.array(seq)]`, which will result either in an error or a different result.\n",
      "  return np.add.reduce(sorted[indexer] * weights, axis=axis) / sumval\n"
     ]
    },
    {
     "data": {
      "text/plain": [
       "<seaborn.axisgrid.PairGrid at 0x73e2dcd400>"
      ]
     },
     "execution_count": 12,
     "metadata": {},
     "output_type": "execute_result"
    },
    {
     "data": {
      "image/png": "[encoded data removed]",
      "text/plain": [
       "<matplotlib.figure.Figure at 0x73e2dcd240>"
      ]
     },
     "metadata": {},
     "output_type": "display_data"
    }
   ],
   "source": [
    "#This is a scatter plot of Adjusted Volume against Adjusted Open and Adjusted Close\n",
    "sns.pairplot(df, x_vars=['Adj_Open','Adj_Close'], y_vars='Adj_Volume', size=7, aspect=0.7, kind='reg')"
   ]
  },
  {
   "cell_type": "code",
   "execution_count": 13,
   "metadata": {},
   "outputs": [
    {
     "name": "stderr",
     "output_type": "stream",
     "text": [
      "C:\\Users\\PC\\Anaconda3\\lib\\site-packages\\scipy\\stats\\stats.py:1633: FutureWarning: Using a non-tuple sequence for multidimensional indexing is deprecated; use `arr[tuple(seq)]` instead of `arr[seq]`. In the future this will be interpreted as an array index, `arr[np.array(seq)]`, which will result either in an error or a different result.\n",
      "  return np.add.reduce(sorted[indexer] * weights, axis=axis) / sumval\n"
     ]
    },
    {
     "data": {
      "text/plain": [
       "<matplotlib.axes._axes.Axes at 0x73e2e23da0>"
      ]
     },
     "execution_count": 13,
     "metadata": {},
     "output_type": "execute_result"
    },
    {
     "data": {
      "image/png": "[encoded data removed]",
      "text/plain": [
       "<matplotlib.figure.Figure at 0x73e2e73080>"
      ]
     },
     "metadata": {},
     "output_type": "display_data"
    }
   ],
   "source": [
    "#This is a distribution plot showing the Adjusted Volume\n",
    "fig = plt.figure()\n",
    "axes = fig.add_axes([1, 1, 2, 1.0])\n",
    "sns.distplot(df['Adj_Volume'])"
   ]
  },
  {
   "cell_type": "code",
   "execution_count": 14,
   "metadata": {},
   "outputs": [
    {
     "data": {
      "text/html": [
       "<div>\n",
       "<style>\n",
       "    .dataframe thead tr:only-child th {\n",
       "        text-align: right;\n",
       "    }\n",
       "\n",
       "    .dataframe thead th {\n",
       "        text-align: left;\n",
       "    }\n",
       "\n",
       "    .dataframe tbody tr th {\n",
       "        vertical-align: top;\n",
       "    }\n",
       "</style>\n",
       "<table border=\"1\" class=\"dataframe\">\n",
       "  <thead>\n",
       "    <tr style=\"text-align: right;\">\n",
       "      <th></th>\n",
       "      <th>Adj_Open</th>\n",
       "      <th>Adj_High</th>\n",
       "      <th>Adj_Low</th>\n",
       "      <th>Adj_Close</th>\n",
       "      <th>Adj_Volume</th>\n",
       "    </tr>\n",
       "  </thead>\n",
       "  <tbody>\n",
       "    <tr>\n",
       "      <th>Adj_Open</th>\n",
       "      <td>1.000000</td>\n",
       "      <td>0.999740</td>\n",
       "      <td>0.999493</td>\n",
       "      <td>0.999371</td>\n",
       "      <td>-0.344570</td>\n",
       "    </tr>\n",
       "    <tr>\n",
       "      <th>Adj_High</th>\n",
       "      <td>0.999740</td>\n",
       "      <td>1.000000</td>\n",
       "      <td>0.999407</td>\n",
       "      <td>0.999726</td>\n",
       "      <td>-0.340943</td>\n",
       "    </tr>\n",
       "    <tr>\n",
       "      <th>Adj_Low</th>\n",
       "      <td>0.999493</td>\n",
       "      <td>0.999407</td>\n",
       "      <td>1.000000</td>\n",
       "      <td>0.999530</td>\n",
       "      <td>-0.356738</td>\n",
       "    </tr>\n",
       "    <tr>\n",
       "      <th>Adj_Close</th>\n",
       "      <td>0.999371</td>\n",
       "      <td>0.999726</td>\n",
       "      <td>0.999530</td>\n",
       "      <td>1.000000</td>\n",
       "      <td>-0.349350</td>\n",
       "    </tr>\n",
       "    <tr>\n",
       "      <th>Adj_Volume</th>\n",
       "      <td>-0.344570</td>\n",
       "      <td>-0.340943</td>\n",
       "      <td>-0.356738</td>\n",
       "      <td>-0.349350</td>\n",
       "      <td>1.000000</td>\n",
       "    </tr>\n",
       "  </tbody>\n",
       "</table>\n",
       "</div>"
      ],
      "text/plain": [
       "            Adj_Open  Adj_High   Adj_Low  Adj_Close  Adj_Volume\n",
       "Adj_Open    1.000000  0.999740  0.999493   0.999371   -0.344570\n",
       "Adj_High    0.999740  1.000000  0.999407   0.999726   -0.340943\n",
       "Adj_Low     0.999493  0.999407  1.000000   0.999530   -0.356738\n",
       "Adj_Close   0.999371  0.999726  0.999530   1.000000   -0.349350\n",
       "Adj_Volume -0.344570 -0.340943 -0.356738  -0.349350    1.000000"
      ]
     },
     "execution_count": 14,
     "metadata": {},
     "output_type": "execute_result"
    }
   ],
   "source": [
    "#This shows correlation values for each of the features\n",
    "df.corr()"
   ]
  },
  {
   "cell_type": "code",
   "execution_count": 15,
   "metadata": {
    "scrolled": true
   },
   "outputs": [
    {
     "data": {
      "image/png": "[encoded data removed]",
      "text/plain": [
       "<matplotlib.figure.Figure at 0x73ebbe2b70>"
      ]
     },
     "metadata": {},
     "output_type": "display_data"
    }
   ],
   "source": [
    "fig = plt.figure()\n",
    "axes = fig.add_axes([1, 1, 3, 1.0])\n",
    "axes.plot(df.index, df['Adj_Close'])\n",
    "plt.title('XYZ Company')\n",
    "plt.ylabel('Adj_Close($)')\n",
    "plt.show()"
   ]
  },
  {
   "cell_type": "code",
   "execution_count": 20,
   "metadata": {
    "scrolled": true
   },
   "outputs": [
    {
     "name": "stderr",
     "output_type": "stream",
     "text": [
      "C:\\Users\\PC\\Anaconda3\\lib\\site-packages\\matplotlib\\cbook\\deprecation.py:106: MatplotlibDeprecationWarning: Adding an axes using the same arguments as a previous axes currently reuses the earlier instance.  In a future version, a new instance will always be created and returned.  Meanwhile, this warning can be suppressed, and the future behavior ensured, by passing a unique label to each axes instance.\n",
      "  warnings.warn(message, mplDeprecation, stacklevel=1)\n"
     ]
    },
    {
     "data": {
      "image/png": "[encoded data removed]",
      "text/plain": [
       "<matplotlib.figure.Figure at 0x73ec072978>"
      ]
     },
     "metadata": {},
     "output_type": "display_data"
    }
   ],
   "source": [
    "import datetime as dt\n",
    "import matplotlib.dates as mdates\n",
    "import matplotlib.pyplot as plt\n",
    "\n",
    "ax = plt.subplot()\n",
    "axes = fig.add_axes([1, 1, 2, 1.0])\n",
    "ax.xaxis_date()\n",
    "ax.grid(True)\n",
    "plt.show()"
   ]
  },
  {
   "cell_type": "code",
   "execution_count": 21,
   "metadata": {},
   "outputs": [
    {
     "data": {
      "text/plain": [
       "<matplotlib.axes._subplots.AxesSubplot at 0x73ec0f76d8>"
      ]
     },
     "execution_count": 21,
     "metadata": {},
     "output_type": "execute_result"
    },
    {
     "data": {
      "image/png": "[encoded data removed]",
      "text/plain": [
       "<matplotlib.figure.Figure at 0x73ec07c160>"
      ]
     },
     "metadata": {},
     "output_type": "display_data"
    }
   ],
   "source": [
    "#plot heatmap to find correlation among features\n",
    "#We can see that Adj_Volume is negatively corellated with all the remaining features observed. \n",
    "corrmat = df.corr()\n",
    "f, ax = plt.subplots(figsize = (15,8))\n",
    "sns.heatmap(corrmat, square = True, annot = True, linewidth = 0.8, cmap = 'RdBu')"
   ]
  },
  {
   "cell_type": "code",
   "execution_count": 24,
   "metadata": {
    "scrolled": true
   },
   "outputs": [
    {
     "data": {
      "text/html": [
       "<div>\n",
       "<style>\n",
       "    .dataframe thead tr:only-child th {\n",
       "        text-align: right;\n",
       "    }\n",
       "\n",
       "    .dataframe thead th {\n",
       "        text-align: left;\n",
       "    }\n",
       "\n",
       "    .dataframe tbody tr th {\n",
       "        vertical-align: top;\n",
       "    }\n",
       "</style>\n",
       "<table border=\"1\" class=\"dataframe\">\n",
       "  <thead>\n",
       "    <tr style=\"text-align: right;\">\n",
       "      <th></th>\n",
       "      <th>Adj_Open</th>\n",
       "      <th>Adj_High</th>\n",
       "      <th>Adj_Low</th>\n",
       "      <th>Adj_Close</th>\n",
       "      <th>Adj_Volume</th>\n",
       "    </tr>\n",
       "    <tr>\n",
       "      <th>Date</th>\n",
       "      <th></th>\n",
       "      <th></th>\n",
       "      <th></th>\n",
       "      <th></th>\n",
       "      <th></th>\n",
       "    </tr>\n",
       "  </thead>\n",
       "  <tbody>\n",
       "    <tr>\n",
       "      <th>2017-12-28</th>\n",
       "      <td>181.803521</td>\n",
       "      <td>181.870182</td>\n",
       "      <td>180.594100</td>\n",
       "      <td>180.727422</td>\n",
       "      <td>3175631.0</td>\n",
       "    </tr>\n",
       "    <tr>\n",
       "      <th>2017-12-27</th>\n",
       "      <td>181.508308</td>\n",
       "      <td>182.355855</td>\n",
       "      <td>180.946451</td>\n",
       "      <td>181.117865</td>\n",
       "      <td>5912613.0</td>\n",
       "    </tr>\n",
       "    <tr>\n",
       "      <th>2017-12-26</th>\n",
       "      <td>179.537048</td>\n",
       "      <td>181.336894</td>\n",
       "      <td>179.356111</td>\n",
       "      <td>181.279756</td>\n",
       "      <td>2969182.0</td>\n",
       "    </tr>\n",
       "    <tr>\n",
       "      <th>2017-12-22</th>\n",
       "      <td>179.222789</td>\n",
       "      <td>179.470387</td>\n",
       "      <td>178.337150</td>\n",
       "      <td>179.156128</td>\n",
       "      <td>3256519.0</td>\n",
       "    </tr>\n",
       "    <tr>\n",
       "      <th>2017-12-21</th>\n",
       "      <td>178.746639</td>\n",
       "      <td>179.832261</td>\n",
       "      <td>178.499041</td>\n",
       "      <td>179.108513</td>\n",
       "      <td>5859058.0</td>\n",
       "    </tr>\n",
       "    <tr>\n",
       "      <th>2017-12-20</th>\n",
       "      <td>178.213351</td>\n",
       "      <td>178.939384</td>\n",
       "      <td>177.161060</td>\n",
       "      <td>178.375242</td>\n",
       "      <td>5383672.0</td>\n",
       "    </tr>\n",
       "    <tr>\n",
       "      <th>2017-12-19</th>\n",
       "      <td>176.399220</td>\n",
       "      <td>177.813385</td>\n",
       "      <td>175.794510</td>\n",
       "      <td>177.108684</td>\n",
       "      <td>4496706.0</td>\n",
       "    </tr>\n",
       "    <tr>\n",
       "      <th>2017-12-18</th>\n",
       "      <td>175.185038</td>\n",
       "      <td>176.623011</td>\n",
       "      <td>174.746981</td>\n",
       "      <td>175.918309</td>\n",
       "      <td>5011827.0</td>\n",
       "    </tr>\n",
       "    <tr>\n",
       "      <th>2017-12-15</th>\n",
       "      <td>174.275592</td>\n",
       "      <td>174.470814</td>\n",
       "      <td>173.442330</td>\n",
       "      <td>173.870865</td>\n",
       "      <td>8201699.0</td>\n",
       "    </tr>\n",
       "    <tr>\n",
       "      <th>2017-12-14</th>\n",
       "      <td>175.108854</td>\n",
       "      <td>175.223130</td>\n",
       "      <td>173.375669</td>\n",
       "      <td>173.442330</td>\n",
       "      <td>3542677.0</td>\n",
       "    </tr>\n",
       "    <tr>\n",
       "      <th>2017-12-13</th>\n",
       "      <td>173.328054</td>\n",
       "      <td>174.908872</td>\n",
       "      <td>173.318531</td>\n",
       "      <td>174.299400</td>\n",
       "      <td>5176749.0</td>\n",
       "    </tr>\n",
       "    <tr>\n",
       "      <th>2017-12-12</th>\n",
       "      <td>174.032756</td>\n",
       "      <td>174.470814</td>\n",
       "      <td>172.994749</td>\n",
       "      <td>173.128071</td>\n",
       "      <td>5274935.0</td>\n",
       "    </tr>\n",
       "    <tr>\n",
       "      <th>2017-12-11</th>\n",
       "      <td>174.175601</td>\n",
       "      <td>174.232739</td>\n",
       "      <td>172.480603</td>\n",
       "      <td>173.556606</td>\n",
       "      <td>6038891.0</td>\n",
       "    </tr>\n",
       "    <tr>\n",
       "      <th>2017-12-08</th>\n",
       "      <td>173.794681</td>\n",
       "      <td>175.127900</td>\n",
       "      <td>173.470899</td>\n",
       "      <td>174.661274</td>\n",
       "      <td>5091538.0</td>\n",
       "    </tr>\n",
       "    <tr>\n",
       "      <th>2017-12-07</th>\n",
       "      <td>171.461547</td>\n",
       "      <td>173.870865</td>\n",
       "      <td>171.194903</td>\n",
       "      <td>173.318531</td>\n",
       "      <td>5484611.0</td>\n",
       "    </tr>\n",
       "  </tbody>\n",
       "</table>\n",
       "</div>"
      ],
      "text/plain": [
       "              Adj_Open    Adj_High     Adj_Low   Adj_Close  Adj_Volume\n",
       "Date                                                                  \n",
       "2017-12-28  181.803521  181.870182  180.594100  180.727422   3175631.0\n",
       "2017-12-27  181.508308  182.355855  180.946451  181.117865   5912613.0\n",
       "2017-12-26  179.537048  181.336894  179.356111  181.279756   2969182.0\n",
       "2017-12-22  179.222789  179.470387  178.337150  179.156128   3256519.0\n",
       "2017-12-21  178.746639  179.832261  178.499041  179.108513   5859058.0\n",
       "2017-12-20  178.213351  178.939384  177.161060  178.375242   5383672.0\n",
       "2017-12-19  176.399220  177.813385  175.794510  177.108684   4496706.0\n",
       "2017-12-18  175.185038  176.623011  174.746981  175.918309   5011827.0\n",
       "2017-12-15  174.275592  174.470814  173.442330  173.870865   8201699.0\n",
       "2017-12-14  175.108854  175.223130  173.375669  173.442330   3542677.0\n",
       "2017-12-13  173.328054  174.908872  173.318531  174.299400   5176749.0\n",
       "2017-12-12  174.032756  174.470814  172.994749  173.128071   5274935.0\n",
       "2017-12-11  174.175601  174.232739  172.480603  173.556606   6038891.0\n",
       "2017-12-08  173.794681  175.127900  173.470899  174.661274   5091538.0\n",
       "2017-12-07  171.461547  173.870865  171.194903  173.318531   5484611.0"
      ]
     },
     "execution_count": 24,
     "metadata": {},
     "output_type": "execute_result"
    }
   ],
   "source": [
    "df.head(15)"
   ]
  },
  {
   "cell_type": "code",
   "execution_count": 25,
   "metadata": {
    "collapsed": true
   },
   "outputs": [],
   "source": [
    "#To predict the stocks for 10 days, we create a label after rolling first 10 values in Adj_Close \n",
    "df['Adj_Close'] = df['Adj_Close'].rolling(10).mean()"
   ]
  },
  {
   "cell_type": "code",
   "execution_count": 26,
   "metadata": {
    "collapsed": true
   },
   "outputs": [],
   "source": [
    "df['Label'] = df['Adj_Close'].shift(-1)"
   ]
  },
  {
   "cell_type": "code",
   "execution_count": 27,
   "metadata": {},
   "outputs": [
    {
     "data": {
      "text/html": [
       "<div>\n",
       "<style>\n",
       "    .dataframe thead tr:only-child th {\n",
       "        text-align: right;\n",
       "    }\n",
       "\n",
       "    .dataframe thead th {\n",
       "        text-align: left;\n",
       "    }\n",
       "\n",
       "    .dataframe tbody tr th {\n",
       "        vertical-align: top;\n",
       "    }\n",
       "</style>\n",
       "<table border=\"1\" class=\"dataframe\">\n",
       "  <thead>\n",
       "    <tr style=\"text-align: right;\">\n",
       "      <th></th>\n",
       "      <th>Adj_Open</th>\n",
       "      <th>Adj_High</th>\n",
       "      <th>Adj_Low</th>\n",
       "      <th>Adj_Close</th>\n",
       "      <th>Adj_Volume</th>\n",
       "      <th>Label</th>\n",
       "    </tr>\n",
       "    <tr>\n",
       "      <th>Date</th>\n",
       "      <th></th>\n",
       "      <th></th>\n",
       "      <th></th>\n",
       "      <th></th>\n",
       "      <th></th>\n",
       "      <th></th>\n",
       "    </tr>\n",
       "  </thead>\n",
       "  <tbody>\n",
       "    <tr>\n",
       "      <th>2017-12-28</th>\n",
       "      <td>181.803521</td>\n",
       "      <td>181.870182</td>\n",
       "      <td>180.594100</td>\n",
       "      <td>NaN</td>\n",
       "      <td>3175631.0</td>\n",
       "      <td>NaN</td>\n",
       "    </tr>\n",
       "    <tr>\n",
       "      <th>2017-12-27</th>\n",
       "      <td>181.508308</td>\n",
       "      <td>182.355855</td>\n",
       "      <td>180.946451</td>\n",
       "      <td>NaN</td>\n",
       "      <td>5912613.0</td>\n",
       "      <td>NaN</td>\n",
       "    </tr>\n",
       "    <tr>\n",
       "      <th>2017-12-26</th>\n",
       "      <td>179.537048</td>\n",
       "      <td>181.336894</td>\n",
       "      <td>179.356111</td>\n",
       "      <td>NaN</td>\n",
       "      <td>2969182.0</td>\n",
       "      <td>NaN</td>\n",
       "    </tr>\n",
       "    <tr>\n",
       "      <th>2017-12-22</th>\n",
       "      <td>179.222789</td>\n",
       "      <td>179.470387</td>\n",
       "      <td>178.337150</td>\n",
       "      <td>NaN</td>\n",
       "      <td>3256519.0</td>\n",
       "      <td>NaN</td>\n",
       "    </tr>\n",
       "    <tr>\n",
       "      <th>2017-12-21</th>\n",
       "      <td>178.746639</td>\n",
       "      <td>179.832261</td>\n",
       "      <td>178.499041</td>\n",
       "      <td>NaN</td>\n",
       "      <td>5859058.0</td>\n",
       "      <td>NaN</td>\n",
       "    </tr>\n",
       "    <tr>\n",
       "      <th>2017-12-20</th>\n",
       "      <td>178.213351</td>\n",
       "      <td>178.939384</td>\n",
       "      <td>177.161060</td>\n",
       "      <td>NaN</td>\n",
       "      <td>5383672.0</td>\n",
       "      <td>NaN</td>\n",
       "    </tr>\n",
       "    <tr>\n",
       "      <th>2017-12-19</th>\n",
       "      <td>176.399220</td>\n",
       "      <td>177.813385</td>\n",
       "      <td>175.794510</td>\n",
       "      <td>NaN</td>\n",
       "      <td>4496706.0</td>\n",
       "      <td>NaN</td>\n",
       "    </tr>\n",
       "    <tr>\n",
       "      <th>2017-12-18</th>\n",
       "      <td>175.185038</td>\n",
       "      <td>176.623011</td>\n",
       "      <td>174.746981</td>\n",
       "      <td>NaN</td>\n",
       "      <td>5011827.0</td>\n",
       "      <td>NaN</td>\n",
       "    </tr>\n",
       "    <tr>\n",
       "      <th>2017-12-15</th>\n",
       "      <td>174.275592</td>\n",
       "      <td>174.470814</td>\n",
       "      <td>173.442330</td>\n",
       "      <td>NaN</td>\n",
       "      <td>8201699.0</td>\n",
       "      <td>178.010511</td>\n",
       "    </tr>\n",
       "    <tr>\n",
       "      <th>2017-12-14</th>\n",
       "      <td>175.108854</td>\n",
       "      <td>175.223130</td>\n",
       "      <td>173.375669</td>\n",
       "      <td>178.010511</td>\n",
       "      <td>3542677.0</td>\n",
       "      <td>177.367709</td>\n",
       "    </tr>\n",
       "    <tr>\n",
       "      <th>2017-12-13</th>\n",
       "      <td>173.328054</td>\n",
       "      <td>174.908872</td>\n",
       "      <td>173.318531</td>\n",
       "      <td>177.367709</td>\n",
       "      <td>5176749.0</td>\n",
       "      <td>176.568730</td>\n",
       "    </tr>\n",
       "    <tr>\n",
       "      <th>2017-12-12</th>\n",
       "      <td>174.032756</td>\n",
       "      <td>174.470814</td>\n",
       "      <td>172.994749</td>\n",
       "      <td>176.568730</td>\n",
       "      <td>5274935.0</td>\n",
       "      <td>175.796415</td>\n",
       "    </tr>\n",
       "    <tr>\n",
       "      <th>2017-12-11</th>\n",
       "      <td>174.175601</td>\n",
       "      <td>174.232739</td>\n",
       "      <td>172.480603</td>\n",
       "      <td>175.796415</td>\n",
       "      <td>6038891.0</td>\n",
       "      <td>175.346929</td>\n",
       "    </tr>\n",
       "    <tr>\n",
       "      <th>2017-12-08</th>\n",
       "      <td>173.794681</td>\n",
       "      <td>175.127900</td>\n",
       "      <td>173.470899</td>\n",
       "      <td>175.346929</td>\n",
       "      <td>5091538.0</td>\n",
       "      <td>174.767931</td>\n",
       "    </tr>\n",
       "    <tr>\n",
       "      <th>2017-12-07</th>\n",
       "      <td>171.461547</td>\n",
       "      <td>173.870865</td>\n",
       "      <td>171.194903</td>\n",
       "      <td>174.767931</td>\n",
       "      <td>5484611.0</td>\n",
       "      <td>174.147984</td>\n",
       "    </tr>\n",
       "    <tr>\n",
       "      <th>2017-12-06</th>\n",
       "      <td>171.652007</td>\n",
       "      <td>173.461376</td>\n",
       "      <td>170.156896</td>\n",
       "      <td>174.147984</td>\n",
       "      <td>6891093.0</td>\n",
       "      <td>173.849914</td>\n",
       "    </tr>\n",
       "    <tr>\n",
       "      <th>2017-12-05</th>\n",
       "      <td>175.975447</td>\n",
       "      <td>176.089723</td>\n",
       "      <td>173.565082</td>\n",
       "      <td>173.849914</td>\n",
       "      <td>6347228.0</td>\n",
       "      <td>173.866103</td>\n",
       "    </tr>\n",
       "    <tr>\n",
       "      <th>2017-12-04</th>\n",
       "      <td>174.451768</td>\n",
       "      <td>177.422943</td>\n",
       "      <td>174.451768</td>\n",
       "      <td>173.866103</td>\n",
       "      <td>6192507.0</td>\n",
       "      <td>173.660407</td>\n",
       "    </tr>\n",
       "    <tr>\n",
       "      <th>2017-12-01</th>\n",
       "      <td>171.718668</td>\n",
       "      <td>171.985312</td>\n",
       "      <td>168.271343</td>\n",
       "      <td>173.660407</td>\n",
       "      <td>4682482.0</td>\n",
       "      <td>173.440426</td>\n",
       "    </tr>\n",
       "    <tr>\n",
       "      <th>2017-11-30</th>\n",
       "      <td>169.575994</td>\n",
       "      <td>172.051973</td>\n",
       "      <td>168.947476</td>\n",
       "      <td>173.440426</td>\n",
       "      <td>9179321.0</td>\n",
       "      <td>172.889996</td>\n",
       "    </tr>\n",
       "    <tr>\n",
       "      <th>2017-11-29</th>\n",
       "      <td>168.147544</td>\n",
       "      <td>169.918822</td>\n",
       "      <td>167.299998</td>\n",
       "      <td>172.889996</td>\n",
       "      <td>4901810.0</td>\n",
       "      <td>172.307936</td>\n",
       "    </tr>\n",
       "    <tr>\n",
       "      <th>2017-11-28</th>\n",
       "      <td>165.715597</td>\n",
       "      <td>167.496976</td>\n",
       "      <td>163.916310</td>\n",
       "      <td>172.307936</td>\n",
       "      <td>6048963.0</td>\n",
       "      <td>171.454664</td>\n",
       "    </tr>\n",
       "    <tr>\n",
       "      <th>2017-11-27</th>\n",
       "      <td>163.801562</td>\n",
       "      <td>165.734548</td>\n",
       "      <td>163.337267</td>\n",
       "      <td>171.454664</td>\n",
       "      <td>4539428.0</td>\n",
       "      <td>170.317526</td>\n",
       "    </tr>\n",
       "    <tr>\n",
       "      <th>2017-11-24</th>\n",
       "      <td>163.081431</td>\n",
       "      <td>164.019497</td>\n",
       "      <td>162.733209</td>\n",
       "      <td>170.317526</td>\n",
       "      <td>1853587.0</td>\n",
       "      <td>169.289078</td>\n",
       "    </tr>\n",
       "    <tr>\n",
       "      <th>2017-11-22</th>\n",
       "      <td>163.820513</td>\n",
       "      <td>163.867890</td>\n",
       "      <td>163.015103</td>\n",
       "      <td>169.289078</td>\n",
       "      <td>4132897.0</td>\n",
       "      <td>168.450710</td>\n",
       "    </tr>\n",
       "    <tr>\n",
       "      <th>2017-11-21</th>\n",
       "      <td>161.584314</td>\n",
       "      <td>163.792087</td>\n",
       "      <td>161.224248</td>\n",
       "      <td>168.450710</td>\n",
       "      <td>6228970.0</td>\n",
       "      <td>167.188762</td>\n",
       "    </tr>\n",
       "    <tr>\n",
       "      <th>2017-11-20</th>\n",
       "      <td>159.319689</td>\n",
       "      <td>161.735921</td>\n",
       "      <td>158.997525</td>\n",
       "      <td>167.188762</td>\n",
       "      <td>4697484.0</td>\n",
       "      <td>165.474810</td>\n",
       "    </tr>\n",
       "  </tbody>\n",
       "</table>\n",
       "</div>"
      ],
      "text/plain": [
       "              Adj_Open    Adj_High     Adj_Low   Adj_Close  Adj_Volume  \\\n",
       "Date                                                                     \n",
       "2017-12-28  181.803521  181.870182  180.594100         NaN   3175631.0   \n",
       "2017-12-27  181.508308  182.355855  180.946451         NaN   5912613.0   \n",
       "2017-12-26  179.537048  181.336894  179.356111         NaN   2969182.0   \n",
       "2017-12-22  179.222789  179.470387  178.337150         NaN   3256519.0   \n",
       "2017-12-21  178.746639  179.832261  178.499041         NaN   5859058.0   \n",
       "2017-12-20  178.213351  178.939384  177.161060         NaN   5383672.0   \n",
       "2017-12-19  176.399220  177.813385  175.794510         NaN   4496706.0   \n",
       "2017-12-18  175.185038  176.623011  174.746981         NaN   5011827.0   \n",
       "2017-12-15  174.275592  174.470814  173.442330         NaN   8201699.0   \n",
       "2017-12-14  175.108854  175.223130  173.375669  178.010511   3542677.0   \n",
       "2017-12-13  173.328054  174.908872  173.318531  177.367709   5176749.0   \n",
       "2017-12-12  174.032756  174.470814  172.994749  176.568730   5274935.0   \n",
       "2017-12-11  174.175601  174.232739  172.480603  175.796415   6038891.0   \n",
       "2017-12-08  173.794681  175.127900  173.470899  175.346929   5091538.0   \n",
       "2017-12-07  171.461547  173.870865  171.194903  174.767931   5484611.0   \n",
       "2017-12-06  171.652007  173.461376  170.156896  174.147984   6891093.0   \n",
       "2017-12-05  175.975447  176.089723  173.565082  173.849914   6347228.0   \n",
       "2017-12-04  174.451768  177.422943  174.451768  173.866103   6192507.0   \n",
       "2017-12-01  171.718668  171.985312  168.271343  173.660407   4682482.0   \n",
       "2017-11-30  169.575994  172.051973  168.947476  173.440426   9179321.0   \n",
       "2017-11-29  168.147544  169.918822  167.299998  172.889996   4901810.0   \n",
       "2017-11-28  165.715597  167.496976  163.916310  172.307936   6048963.0   \n",
       "2017-11-27  163.801562  165.734548  163.337267  171.454664   4539428.0   \n",
       "2017-11-24  163.081431  164.019497  162.733209  170.317526   1853587.0   \n",
       "2017-11-22  163.820513  163.867890  163.015103  169.289078   4132897.0   \n",
       "2017-11-21  161.584314  163.792087  161.224248  168.450710   6228970.0   \n",
       "2017-11-20  159.319689  161.735921  158.997525  167.188762   4697484.0   \n",
       "\n",
       "                 Label  \n",
       "Date                    \n",
       "2017-12-28         NaN  \n",
       "2017-12-27         NaN  \n",
       "2017-12-26         NaN  \n",
       "2017-12-22         NaN  \n",
       "2017-12-21         NaN  \n",
       "2017-12-20         NaN  \n",
       "2017-12-19         NaN  \n",
       "2017-12-18         NaN  \n",
       "2017-12-15  178.010511  \n",
       "2017-12-14  177.367709  \n",
       "2017-12-13  176.568730  \n",
       "2017-12-12  175.796415  \n",
       "2017-12-11  175.346929  \n",
       "2017-12-08  174.767931  \n",
       "2017-12-07  174.147984  \n",
       "2017-12-06  173.849914  \n",
       "2017-12-05  173.866103  \n",
       "2017-12-04  173.660407  \n",
       "2017-12-01  173.440426  \n",
       "2017-11-30  172.889996  \n",
       "2017-11-29  172.307936  \n",
       "2017-11-28  171.454664  \n",
       "2017-11-27  170.317526  \n",
       "2017-11-24  169.289078  \n",
       "2017-11-22  168.450710  \n",
       "2017-11-21  167.188762  \n",
       "2017-11-20  165.474810  "
      ]
     },
     "execution_count": 27,
     "metadata": {},
     "output_type": "execute_result"
    }
   ],
   "source": [
    "df.head(27)"
   ]
  },
  {
   "cell_type": "code",
   "execution_count": 28,
   "metadata": {
    "collapsed": true
   },
   "outputs": [],
   "source": [
    "df.dropna(inplace=True)"
   ]
  },
  {
   "cell_type": "code",
   "execution_count": 29,
   "metadata": {},
   "outputs": [
    {
     "data": {
      "text/html": [
       "<div>\n",
       "<style>\n",
       "    .dataframe thead tr:only-child th {\n",
       "        text-align: right;\n",
       "    }\n",
       "\n",
       "    .dataframe thead th {\n",
       "        text-align: left;\n",
       "    }\n",
       "\n",
       "    .dataframe tbody tr th {\n",
       "        vertical-align: top;\n",
       "    }\n",
       "</style>\n",
       "<table border=\"1\" class=\"dataframe\">\n",
       "  <thead>\n",
       "    <tr style=\"text-align: right;\">\n",
       "      <th></th>\n",
       "      <th>Adj_Open</th>\n",
       "      <th>Adj_High</th>\n",
       "      <th>Adj_Low</th>\n",
       "      <th>Adj_Close</th>\n",
       "      <th>Adj_Volume</th>\n",
       "      <th>Label</th>\n",
       "    </tr>\n",
       "    <tr>\n",
       "      <th>Date</th>\n",
       "      <th></th>\n",
       "      <th></th>\n",
       "      <th></th>\n",
       "      <th></th>\n",
       "      <th></th>\n",
       "      <th></th>\n",
       "    </tr>\n",
       "  </thead>\n",
       "  <tbody>\n",
       "    <tr>\n",
       "      <th>2017-12-14</th>\n",
       "      <td>175.108854</td>\n",
       "      <td>175.223130</td>\n",
       "      <td>173.375669</td>\n",
       "      <td>178.010511</td>\n",
       "      <td>3542677.0</td>\n",
       "      <td>177.367709</td>\n",
       "    </tr>\n",
       "    <tr>\n",
       "      <th>2017-12-13</th>\n",
       "      <td>173.328054</td>\n",
       "      <td>174.908872</td>\n",
       "      <td>173.318531</td>\n",
       "      <td>177.367709</td>\n",
       "      <td>5176749.0</td>\n",
       "      <td>176.568730</td>\n",
       "    </tr>\n",
       "    <tr>\n",
       "      <th>2017-12-12</th>\n",
       "      <td>174.032756</td>\n",
       "      <td>174.470814</td>\n",
       "      <td>172.994749</td>\n",
       "      <td>176.568730</td>\n",
       "      <td>5274935.0</td>\n",
       "      <td>175.796415</td>\n",
       "    </tr>\n",
       "    <tr>\n",
       "      <th>2017-12-11</th>\n",
       "      <td>174.175601</td>\n",
       "      <td>174.232739</td>\n",
       "      <td>172.480603</td>\n",
       "      <td>175.796415</td>\n",
       "      <td>6038891.0</td>\n",
       "      <td>175.346929</td>\n",
       "    </tr>\n",
       "    <tr>\n",
       "      <th>2017-12-08</th>\n",
       "      <td>173.794681</td>\n",
       "      <td>175.127900</td>\n",
       "      <td>173.470899</td>\n",
       "      <td>175.346929</td>\n",
       "      <td>5091538.0</td>\n",
       "      <td>174.767931</td>\n",
       "    </tr>\n",
       "    <tr>\n",
       "      <th>2017-12-07</th>\n",
       "      <td>171.461547</td>\n",
       "      <td>173.870865</td>\n",
       "      <td>171.194903</td>\n",
       "      <td>174.767931</td>\n",
       "      <td>5484611.0</td>\n",
       "      <td>174.147984</td>\n",
       "    </tr>\n",
       "    <tr>\n",
       "      <th>2017-12-06</th>\n",
       "      <td>171.652007</td>\n",
       "      <td>173.461376</td>\n",
       "      <td>170.156896</td>\n",
       "      <td>174.147984</td>\n",
       "      <td>6891093.0</td>\n",
       "      <td>173.849914</td>\n",
       "    </tr>\n",
       "    <tr>\n",
       "      <th>2017-12-05</th>\n",
       "      <td>175.975447</td>\n",
       "      <td>176.089723</td>\n",
       "      <td>173.565082</td>\n",
       "      <td>173.849914</td>\n",
       "      <td>6347228.0</td>\n",
       "      <td>173.866103</td>\n",
       "    </tr>\n",
       "    <tr>\n",
       "      <th>2017-12-04</th>\n",
       "      <td>174.451768</td>\n",
       "      <td>177.422943</td>\n",
       "      <td>174.451768</td>\n",
       "      <td>173.866103</td>\n",
       "      <td>6192507.0</td>\n",
       "      <td>173.660407</td>\n",
       "    </tr>\n",
       "    <tr>\n",
       "      <th>2017-12-01</th>\n",
       "      <td>171.718668</td>\n",
       "      <td>171.985312</td>\n",
       "      <td>168.271343</td>\n",
       "      <td>173.660407</td>\n",
       "      <td>4682482.0</td>\n",
       "      <td>173.440426</td>\n",
       "    </tr>\n",
       "  </tbody>\n",
       "</table>\n",
       "</div>"
      ],
      "text/plain": [
       "              Adj_Open    Adj_High     Adj_Low   Adj_Close  Adj_Volume  \\\n",
       "Date                                                                     \n",
       "2017-12-14  175.108854  175.223130  173.375669  178.010511   3542677.0   \n",
       "2017-12-13  173.328054  174.908872  173.318531  177.367709   5176749.0   \n",
       "2017-12-12  174.032756  174.470814  172.994749  176.568730   5274935.0   \n",
       "2017-12-11  174.175601  174.232739  172.480603  175.796415   6038891.0   \n",
       "2017-12-08  173.794681  175.127900  173.470899  175.346929   5091538.0   \n",
       "2017-12-07  171.461547  173.870865  171.194903  174.767931   5484611.0   \n",
       "2017-12-06  171.652007  173.461376  170.156896  174.147984   6891093.0   \n",
       "2017-12-05  175.975447  176.089723  173.565082  173.849914   6347228.0   \n",
       "2017-12-04  174.451768  177.422943  174.451768  173.866103   6192507.0   \n",
       "2017-12-01  171.718668  171.985312  168.271343  173.660407   4682482.0   \n",
       "\n",
       "                 Label  \n",
       "Date                    \n",
       "2017-12-14  177.367709  \n",
       "2017-12-13  176.568730  \n",
       "2017-12-12  175.796415  \n",
       "2017-12-11  175.346929  \n",
       "2017-12-08  174.767931  \n",
       "2017-12-07  174.147984  \n",
       "2017-12-06  173.849914  \n",
       "2017-12-05  173.866103  \n",
       "2017-12-04  173.660407  \n",
       "2017-12-01  173.440426  "
      ]
     },
     "execution_count": 29,
     "metadata": {},
     "output_type": "execute_result"
    }
   ],
   "source": [
    "df.head(10) #from the new dataframe, every row have been mapped against its future value. "
   ]
  },
  {
   "cell_type": "markdown",
   "metadata": {},
   "source": [
    "# Creating features and labels"
   ]
  },
  {
   "cell_type": "code",
   "execution_count": 30,
   "metadata": {
    "collapsed": true,
    "jupyter": {
     "source_hidden": true
    }
   },
   "outputs": [],
   "source": [
    "X = df[['Adj_Open', 'Adj_High', 'Adj_Low', 'Adj_Close', 'Adj_Volume']]\n",
    "y = df['Label']"
   ]
  },
  {
   "cell_type": "code",
   "execution_count": 31,
   "metadata": {
    "collapsed": true
   },
   "outputs": [],
   "source": [
    "#Let's do some preprocessing but before then, let's convert both the labels and features to np.arrays for easy mathematical calculation\n",
    "X = np.array(df[['Adj_Open', 'Adj_High', 'Adj_Low', 'Adj_Close', 'Adj_Volume']])\n",
    "y = np.array(df['Label'])"
   ]
  },
  {
   "cell_type": "code",
   "execution_count": 32,
   "metadata": {
    "collapsed": true
   },
   "outputs": [],
   "source": [
    "#import preprocessing\n",
    "from sklearn import preprocessing, model_selection"
   ]
  },
  {
   "cell_type": "code",
   "execution_count": 34,
   "metadata": {},
   "outputs": [
    {
     "data": {
      "text/plain": [
       "array([[ 2.4364235 ,  2.40072079,  2.41217223,  2.50435635, -0.82321596],\n",
       "       [ 2.37226795,  2.38945568,  2.4101043 ,  2.4813657 , -0.10582957],\n",
       "       [ 2.39765571,  2.3737528 ,  2.39838603,  2.45278917, -0.06272419],\n",
       "       ...,\n",
       "       [-1.56680363, -1.58632769, -1.58892469, -1.51728848,  1.99778961],\n",
       "       [-1.5505052 , -1.56605624, -1.56908773, -1.53446505,  2.46780187],\n",
       "       [-1.55332608, -1.55670019, -1.54074922, -1.54451584,  1.25286453]])"
      ]
     },
     "execution_count": 34,
     "metadata": {},
     "output_type": "execute_result"
    }
   ],
   "source": [
    "X = preprocessing.scale(X) #this is to scale down the features between 0 and -1 for fast computation\n",
    "X"
   ]
  },
  {
   "cell_type": "markdown",
   "metadata": {},
   "source": [
    "# Preparing the testing and training dataset\n",
    "This means we are going to divide the data into two parts. One, for testing and the other for training. For instance 80% of the data will be used for training and the remaining 20% will be used for testing. the testing will be unseen and not shown to the machine and the training will be seen to the machine learning model."
   ]
  },
  {
   "cell_type": "code",
   "execution_count": 35,
   "metadata": {
    "collapsed": true
   },
   "outputs": [],
   "source": [
    "X_train, X_test, y_train, y_test = model_selection.train_test_split(X, y, test_size=0.20, random_state=1)"
   ]
  },
  {
   "cell_type": "code",
   "execution_count": 36,
   "metadata": {
    "collapsed": true
   },
   "outputs": [],
   "source": [
    "#let's pass the training data into our machine learning algorithm so that the machine can learn from it.\n",
    "from sklearn.linear_model import LinearRegression"
   ]
  },
  {
   "cell_type": "code",
   "execution_count": 37,
   "metadata": {},
   "outputs": [
    {
     "data": {
      "text/plain": [
       "LinearRegression(copy_X=True, fit_intercept=True, n_jobs=1, normalize=False)"
      ]
     },
     "execution_count": 37,
     "metadata": {},
     "output_type": "execute_result"
    }
   ],
   "source": [
    "#To create an instance of the linear regression model\n",
    "reg = LinearRegression() \n",
    "#The code below will map the X_train and y_train and create a hypotesis.\n",
    "reg.fit(X_train, y_train) \n",
    "#After the hypotesis is done, it will plot a best fit line between the X and the y to give us \n",
    "#the right prediction for the unseen data. "
   ]
  },
  {
   "cell_type": "markdown",
   "metadata": {},
   "source": [
    "# Checking for Accuracy"
   ]
  },
  {
   "cell_type": "code",
   "execution_count": 38,
   "metadata": {},
   "outputs": [
    {
     "data": {
      "text/plain": [
       "0.9999599379720033"
      ]
     },
     "execution_count": 38,
     "metadata": {},
     "output_type": "execute_result"
    }
   ],
   "source": [
    "accuracy = reg.score(X_test, y_test)\n",
    "accuracy"
   ]
  },
  {
   "cell_type": "code",
   "execution_count": 39,
   "metadata": {
    "collapsed": true
   },
   "outputs": [],
   "source": [
    "y_pred=reg.predict(X_test) # now predict"
   ]
  },
  {
   "cell_type": "markdown",
   "metadata": {},
   "source": [
    "# Statsmodels\n",
    "This is a Python package that allows users to explore statistical data. It estimates statistical models and performs statistical tests. The next two cells below are an application of statsmodel."
   ]
  },
  {
   "cell_type": "code",
   "execution_count": 40,
   "metadata": {},
   "outputs": [
    {
     "name": "stderr",
     "output_type": "stream",
     "text": [
      "C:\\Users\\PC\\Anaconda3\\lib\\site-packages\\statsmodels\\compat\\pandas.py:56: FutureWarning: The pandas.core.datetools module is deprecated and will be removed in a future version. Please use the pandas.tseries module instead.\n",
      "  from pandas.core import datetools\n"
     ]
    }
   ],
   "source": [
    "from sklearn.metrics import classification_report\n",
    "import statsmodels.api as sm"
   ]
  },
  {
   "cell_type": "code",
   "execution_count": 41,
   "metadata": {},
   "outputs": [
    {
     "data": {
      "text/html": [
       "<table class=\"simpletable\">\n",
       "<caption>OLS Regression Results</caption>\n",
       "<tr>\n",
       "  <th>Dep. Variable:</th>            <td>y</td>        <th>  R-squared:         </th> <td>   1.000</td> \n",
       "</tr>\n",
       "<tr>\n",
       "  <th>Model:</th>                   <td>OLS</td>       <th>  Adj. R-squared:    </th> <td>   1.000</td> \n",
       "</tr>\n",
       "<tr>\n",
       "  <th>Method:</th>             <td>Least Squares</td>  <th>  F-statistic:       </th> <td>5.377e+06</td>\n",
       "</tr>\n",
       "<tr>\n",
       "  <th>Date:</th>             <td>Sat, 21 Dec 2019</td> <th>  Prob (F-statistic):</th>  <td>  0.00</td>  \n",
       "</tr>\n",
       "<tr>\n",
       "  <th>Time:</th>                 <td>20:51:38</td>     <th>  Log-Likelihood:    </th> <td>  341.37</td> \n",
       "</tr>\n",
       "<tr>\n",
       "  <th>No. Observations:</th>      <td>  1080</td>      <th>  AIC:               </th> <td>  -670.7</td> \n",
       "</tr>\n",
       "<tr>\n",
       "  <th>Df Residuals:</th>          <td>  1074</td>      <th>  BIC:               </th> <td>  -640.8</td> \n",
       "</tr>\n",
       "<tr>\n",
       "  <th>Df Model:</th>              <td>     5</td>      <th>                     </th>     <td> </td>    \n",
       "</tr>\n",
       "<tr>\n",
       "  <th>Covariance Type:</th>      <td>nonrobust</td>    <th>                     </th>     <td> </td>    \n",
       "</tr>\n",
       "</table>\n",
       "<table class=\"simpletable\">\n",
       "<tr>\n",
       "    <td></td>       <th>coef</th>     <th>std err</th>      <th>t</th>      <th>P>|t|</th>  <th>[0.025</th>    <th>0.975]</th>  \n",
       "</tr>\n",
       "<tr>\n",
       "  <th>const</th> <td>  107.8855</td> <td>    0.005</td> <td>    2e+04</td> <td> 0.000</td> <td>  107.875</td> <td>  107.896</td>\n",
       "</tr>\n",
       "<tr>\n",
       "  <th>x1</th>    <td>    2.0017</td> <td>    0.258</td> <td>    7.752</td> <td> 0.000</td> <td>    1.495</td> <td>    2.508</td>\n",
       "</tr>\n",
       "<tr>\n",
       "  <th>x2</th>    <td>    1.7785</td> <td>    0.263</td> <td>    6.759</td> <td> 0.000</td> <td>    1.262</td> <td>    2.295</td>\n",
       "</tr>\n",
       "<tr>\n",
       "  <th>x3</th>    <td>    0.3280</td> <td>    0.194</td> <td>    1.689</td> <td> 0.092</td> <td>   -0.053</td> <td>    0.709</td>\n",
       "</tr>\n",
       "<tr>\n",
       "  <th>x4</th>    <td>   23.8022</td> <td>    0.075</td> <td>  316.609</td> <td> 0.000</td> <td>   23.655</td> <td>   23.950</td>\n",
       "</tr>\n",
       "<tr>\n",
       "  <th>x5</th>    <td>   -0.0230</td> <td>    0.007</td> <td>   -3.464</td> <td> 0.001</td> <td>   -0.036</td> <td>   -0.010</td>\n",
       "</tr>\n",
       "</table>\n",
       "<table class=\"simpletable\">\n",
       "<tr>\n",
       "  <th>Omnibus:</th>       <td>80.293</td> <th>  Durbin-Watson:     </th> <td>   0.850</td>\n",
       "</tr>\n",
       "<tr>\n",
       "  <th>Prob(Omnibus):</th> <td> 0.000</td> <th>  Jarque-Bera (JB):  </th> <td> 280.433</td>\n",
       "</tr>\n",
       "<tr>\n",
       "  <th>Skew:</th>          <td> 0.287</td> <th>  Prob(JB):          </th> <td>1.27e-61</td>\n",
       "</tr>\n",
       "<tr>\n",
       "  <th>Kurtosis:</th>      <td> 5.429</td> <th>  Cond. No.          </th> <td>    129.</td>\n",
       "</tr>\n",
       "</table>"
      ],
      "text/plain": [
       "<class 'statsmodels.iolib.summary.Summary'>\n",
       "\"\"\"\n",
       "                            OLS Regression Results                            \n",
       "==============================================================================\n",
       "Dep. Variable:                      y   R-squared:                       1.000\n",
       "Model:                            OLS   Adj. R-squared:                  1.000\n",
       "Method:                 Least Squares   F-statistic:                 5.377e+06\n",
       "Date:                Sat, 21 Dec 2019   Prob (F-statistic):               0.00\n",
       "Time:                        20:51:38   Log-Likelihood:                 341.37\n",
       "No. Observations:                1080   AIC:                            -670.7\n",
       "Df Residuals:                    1074   BIC:                            -640.8\n",
       "Df Model:                           5                                         \n",
       "Covariance Type:            nonrobust                                         \n",
       "==============================================================================\n",
       "                 coef    std err          t      P>|t|      [0.025      0.975]\n",
       "------------------------------------------------------------------------------\n",
       "const        107.8855      0.005      2e+04      0.000     107.875     107.896\n",
       "x1             2.0017      0.258      7.752      0.000       1.495       2.508\n",
       "x2             1.7785      0.263      6.759      0.000       1.262       2.295\n",
       "x3             0.3280      0.194      1.689      0.092      -0.053       0.709\n",
       "x4            23.8022      0.075    316.609      0.000      23.655      23.950\n",
       "x5            -0.0230      0.007     -3.464      0.001      -0.036      -0.010\n",
       "==============================================================================\n",
       "Omnibus:                       80.293   Durbin-Watson:                   0.850\n",
       "Prob(Omnibus):                  0.000   Jarque-Bera (JB):              280.433\n",
       "Skew:                           0.287   Prob(JB):                     1.27e-61\n",
       "Kurtosis:                       5.429   Cond. No.                         129.\n",
       "==============================================================================\n",
       "\n",
       "Warnings:\n",
       "[1] Standard Errors assume that the covariance matrix of the errors is correctly specified.\n",
       "\"\"\""
      ]
     },
     "execution_count": 41,
     "metadata": {},
     "output_type": "execute_result"
    }
   ],
   "source": [
    "x = sm.add_constant(X)\n",
    "results = sm.OLS(y, x).fit()\n",
    "results.summary()"
   ]
  },
  {
   "cell_type": "code",
   "execution_count": 42,
   "metadata": {},
   "outputs": [
    {
     "data": {
      "text/plain": [
       "0.9999599379720033"
      ]
     },
     "execution_count": 42,
     "metadata": {},
     "output_type": "execute_result"
    }
   ],
   "source": [
    "#calculating the R squared value\n",
    "from sklearn.metrics import r2_score\n",
    "r2_score(y_test, y_pred)"
   ]
  },
  {
   "cell_type": "markdown",
   "metadata": {},
   "source": [
    "# P -value\n",
    "When talking statistics, a p-value for a statistical model is the probability that when the null hypothesis is true, the statistical summary is equal to or greater than the actual observed results. \n",
    "This is also termed 'probability value' or 'asymptotic significance'.\n",
    "The P-value is seen in the Statsmodel above. And a good P-value is expected to be below 0.05."
   ]
  },
  {
   "cell_type": "markdown",
   "metadata": {},
   "source": [
    "# SOME METRICS FOR REGRESSION TASKS (continuous variables prediction)"
   ]
  },
  {
   "cell_type": "code",
   "execution_count": 43,
   "metadata": {
    "collapsed": true
   },
   "outputs": [],
   "source": [
    "#R squared value\n",
    "#Mean Squared Error\n",
    "#Mean absolute error\n",
    "#Variance score"
   ]
  },
  {
   "cell_type": "markdown",
   "metadata": {},
   "source": [
    "# Calculating the R squared value\n",
    "R-squared measures how closely the data fits the regression line.\n",
    "So the R-squared in a simple regression is related to the correlation between the two variables. \n",
    "In particular, the magnitude of the correlation is the square root of the R-squared.\n",
    "The sign of the correlation is the sign of the regression coefficient.\n"
   ]
  },
  {
   "cell_type": "code",
   "execution_count": 44,
   "metadata": {},
   "outputs": [
    {
     "data": {
      "text/plain": [
       "0.9999599379720033"
      ]
     },
     "execution_count": 44,
     "metadata": {},
     "output_type": "execute_result"
    }
   ],
   "source": [
    "from sklearn.metrics import r2_score\n",
    "r2_score(y_test, y_pred)\n"
   ]
  },
  {
   "cell_type": "code",
   "execution_count": 45,
   "metadata": {},
   "outputs": [
    {
     "name": "stdout",
     "output_type": "stream",
     "text": [
      "R2 score : 1.00\n"
     ]
    }
   ],
   "source": [
    "#Rounding the R Squared score \n",
    "print(\"R2 score : %.2f\" % r2_score(y_test,y_pred))"
   ]
  },
  {
   "cell_type": "code",
   "execution_count": 46,
   "metadata": {
    "collapsed": true
   },
   "outputs": [],
   "source": [
    "#How to calculate MSE\n",
    "#Calculate the difference between each pair of the observed and predicted value.\n",
    "#Take the square of the difference value.\n",
    "#Add each of the squared differences to find the cumulative values.\n",
    "#In order to obtain the average value, divide the cumulative value by the total number of items in the list."
   ]
  },
  {
   "cell_type": "markdown",
   "metadata": {},
   "source": [
    "# Mean absolute error"
   ]
  },
  {
   "cell_type": "code",
   "execution_count": 47,
   "metadata": {},
   "outputs": [
    {
     "data": {
      "text/plain": [
       "0.13252731757474756"
      ]
     },
     "execution_count": 47,
     "metadata": {},
     "output_type": "execute_result"
    }
   ],
   "source": [
    "#This is the difference between the measured or inferred value of a quantity and its actual value.\n",
    "#The absolute error of the sum or difference of a number of quantities is\n",
    "#less than or equal to the sum of their absolute errors.\n",
    "from sklearn.metrics import mean_absolute_error\n",
    "mean_absolute_error(y_test, y_pred)"
   ]
  },
  {
   "cell_type": "markdown",
   "metadata": {},
   "source": [
    "# Calculating Variance score"
   ]
  },
  {
   "cell_type": "code",
   "execution_count": 48,
   "metadata": {},
   "outputs": [
    {
     "data": {
      "text/plain": [
       "0.9999605712457432"
      ]
     },
     "execution_count": 48,
     "metadata": {},
     "output_type": "execute_result"
    }
   ],
   "source": [
    "#Explained variance (also called explained variation) is used to measure the discrepancy between a model and actual data.\n",
    "#Higher percentages of explained variance indicates a stronger strength of association. \n",
    "#It also means that you make better predictions (Rosenthal & Rosenthal, 2011).\n",
    "from sklearn.metrics import explained_variance_score\n",
    "explained_variance_score(y_test, y_pred)"
   ]
  },
  {
   "cell_type": "code",
   "execution_count": null,
   "metadata": {
    "collapsed": true
   },
   "outputs": [],
   "source": []
  }
 ],
 "metadata": {
  "kernelspec": {
   "display_name": "Python 3",
   "language": "python",
   "name": "python3"
  },
  "language_info": {
   "codemirror_mode": {
    "name": "ipython",
    "version": 3
   },
   "file_extension": ".py",
   "mimetype": "text/x-python",
   "name": "python",
   "nbconvert_exporter": "python",
   "pygments_lexer": "ipython3",
   "version": "3.6.3"
  }
 },
 "nbformat": 4,
 "nbformat_minor": 4
}
